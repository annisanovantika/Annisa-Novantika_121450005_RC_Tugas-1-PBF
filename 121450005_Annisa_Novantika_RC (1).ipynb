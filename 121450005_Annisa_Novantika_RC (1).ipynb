{
  "nbformat": 4,
  "nbformat_minor": 0,
  "metadata": {
    "colab": {
      "provenance": []
    },
    "kernelspec": {
      "name": "python3",
      "display_name": "Python 3"
    },
    "language_info": {
      "name": "python"
    }
  },
  "cells": [
    {
      "cell_type": "markdown",
      "source": [
        "# **NAMA : ANNISA NOVANTIKA**\n",
        "#**NIM : 121450005**\n",
        "#**KELAS : RC**\n",
        "\n"
      ],
      "metadata": {
        "id": "GheUGRLgnTvs"
      }
    },
    {
      "cell_type": "markdown",
      "source": [
        "## 1. Jelaskan menggunakan tabel mengenai kelebihan dan kekurangan paradigma procedural dibandingkan dengan object oriented (minimal 3) !"
      ],
      "metadata": {
        "id": "W_dCus2tGRRp"
      }
    },
    {
      "cell_type": "markdown",
      "metadata": {
        "id": "_N948u0IhT6W"
      },
      "source": [
        "## Kelebihan Procedural Dibandingkan Object Oriented\n",
        "<table>\n",
        "        <tr>\n",
        "            <th bgcolor=\"Yellow\">Procedural</th>\n",
        "            <th bgcolor=\"Yellow\">Object Oriented</th>\n",
        "        </tr>\n",
        "        <tr>\n",
        "            <td>Mudah dipahami oleh programmer pemula</td>\n",
        "            <td>Sedikit sulit dipahami oleh programmer pemula</td>\n",
        "        </tr>\n",
        "        <tr>\n",
        "            <td>Ruang memori lebih kecil dibanding Object Oriented</td>\n",
        "            <td>Ruang memori lebih besar dibanding Paradigma Procedural</td>\n",
        "        </tr>\n",
        "        <tr>\n",
        "            <td>Lebih cocok pada aplikasi yang sederhana</td>\n",
        "            <td>Lebih cocok dalam sebuah aplikasi atau projek yang kompleks</td>\n",
        "        </tr>\n",
        "</table>\n",
        "\n",
        "## Kekurangan Paradigma Procedural dibandingkan Object Oriented\n",
        "<table>\n",
        "        <tr>\n",
        "            <th bgcolor=\"yellow\">Procedural</th>\n",
        "            <th bgcolor=\"yellow\">Object Oriented</th>\n",
        "        </tr>\n",
        "        <tr>\n",
        "            <td>Tidak memiliki acces modifiers</td>\n",
        "            <td>Memiliki acces modifiers</td>\n",
        "        </tr>\n",
        "        <tr>\n",
        "            <td>Tidak dapat melakukan abstraction dalam penyembunyian data sehingga kurang aman</td>\n",
        "            <td>Dapat melakukan abstraction dalam penyembunyian data sehingga lebih aman dibanding procedural</td>\n",
        "        </tr>\n",
        "        <tr>\n",
        "            <td>Data bersifat pasif</td>\n",
        "            <td>Data bersifat aktif</td>\n",
        "        </tr>\n",
        "</table>"
      ]
    },
    {
      "cell_type": "markdown",
      "source": [
        "## 2. Jelaskan menggunakan tabel mengenai kelebihan dan kekurangan paradigma object oriented dibandingkan dengan functional (minimal 3) !"
      ],
      "metadata": {
        "id": "YBBWpdyEYgq0"
      }
    },
    {
      "cell_type": "markdown",
      "metadata": {
        "id": "GT2_-Sh5wgOC"
      },
      "source": [
        "## Kelebihan Object Oriented dibandingkan Functional\n",
        "<table>\n",
        "        <tr>\n",
        "            <th bgcolor=\"green\">Object Oriented</th>\n",
        "            <th bgcolor=\"green\">Functional</th>\n",
        "        </tr>\n",
        "        <tr>\n",
        "            <td>Lebih mudah dipahami pemula</td>\n",
        "            <td>Susah dipahami oleh pemula</td>\n",
        "        </tr>\n",
        "        <tr>\n",
        "            <td>Lebih cocok untuk project besar </td>\n",
        "            <td>Kurang cocok untuk project besar</td>\n",
        "        </tr>\n",
        "        <tr>\n",
        "            <td>Algoritma lebih jelas</td>\n",
        "            <td>Algoritma kurang jelas</td>\n",
        "        </tr>\n",
        "      \n",
        "</table>\n",
        "\n",
        "\n",
        "\n",
        "## Kekurangan Object Oriented dibandingkan Functional\n",
        "<table>\n",
        "        <tr>\n",
        "            <th bgcolor=\"green\">Object Oriented</th>\n",
        "            <th bgcolor=\"green\">Functional</th>\n",
        "        </tr>\n",
        "        <tr>\n",
        "            <td>Tidak mendukung parallel programmingl</td>\n",
        "            <td>Mendukung parallel programming</td>\n",
        "        </tr>\n",
        "        <tr>\n",
        "            <td>Butuh ruang memori lebih besar</td>\n",
        "            <td>Butuh ruang memori lebih sedikit</td>\n",
        "        </tr>\n",
        "        <tr>\n",
        "            <td>Kurang cocok jika digunakan untuk tugas tertentu, karena yang penting adalah hasil<br>dibandingkan Functional</td>\n",
        "            <td>Lebih cocok digunakan untuk tugas tertentu, karena tidak mementingkan hasil</td>\n",
        "        </tr>\n",
        "</table>"
      ]
    },
    {
      "cell_type": "markdown",
      "source": [
        "## 3. Jelaskan menggunakan tabel mengenai kelebihan dan kekurangan paradigma procedural dibandingkan dengan functional (minimal 3) !"
      ],
      "metadata": {
        "id": "E0X46Op_b310"
      }
    },
    {
      "cell_type": "markdown",
      "metadata": {
        "id": "YlhE3r7F1-8i"
      },
      "source": [
        "## Kelebihan Procedural dibandingkan Functional\n",
        "<table>\n",
        "        <tr>\n",
        "            <th bgcolor=\"pink\">Procedural</th>\n",
        "            <th bgcolor=\"pink\">Functional</th>\n",
        "        </tr>\n",
        "        <tr>\n",
        "            <td>Lebih mudah dipahami oleh pemula</td>\n",
        "            <td>Lebih susah dipahami oleh pemula</td>\n",
        "        </tr>\n",
        "        <tr>\n",
        "            <td>JData bersifat mutable</td>\n",
        "            <td>Data bersifat imutable</td>\n",
        "        </tr>\n",
        "        <tr>\n",
        "            <td>Penulisan loop yang normal</td>\n",
        "            <td>Penulisan loop yang cenderung mengintimidasi</td>\n",
        "        </tr>\n",
        "</table>\n",
        "\n",
        "## Kekurangan Procedural dibandingkan Functional\n",
        "<table>\n",
        "        <tr>\n",
        "            <th bgcolor=\"pink\">Procedural</th>\n",
        "            <th bgcolor=\"pink\">Functional</th>\n",
        "        </tr>\n",
        "        <tr>\n",
        "            <td>Debugging lebih susah</td>\n",
        "            <td>Debugging lebih mudah</td>\n",
        "        </tr>\n",
        "        <tr>\n",
        "            <td>Kode lebih panjang karena jarang menggunakan fungsi</td>\n",
        "            <td>Kode lebih sedikit karena sering menggunakan fungsi</td>\n",
        "        </tr>\n",
        "        <tr>\n",
        "            <td>PKurang cocok digunakan untuk tugas tertentu, <br> karena lebih mementingkan hasil</td>\n",
        "            <td>Lebih cocok digunakan untuk tugas tertentu</td>\n",
        "        </tr>\n",
        "</table>"
      ]
    },
    {
      "cell_type": "markdown",
      "source": [
        "## 4. Apa yang dimaksud dengan pure functional programming language?\n"
      ],
      "metadata": {
        "id": "hJK5rRx8dwT8"
      }
    },
    {
      "cell_type": "markdown",
      "source": [
        "Pure functional programming language adalah sebuah bahasa pemrgraman yang berfokus pada fungsi matematika murni dan data tidak berubah, yaitu data yang tidak dapat diubah setelah dibuat."
      ],
      "metadata": {
        "id": "SutOL9zhenGy"
      }
    },
    {
      "cell_type": "markdown",
      "source": [
        "## 5. Dari bahasa pemrograman FP di slide sebelumnya ( slide 14 ) , manakah yang termasuk pure functional programming language?"
      ],
      "metadata": {
        "id": "Urwdqz3lev6m"
      }
    },
    {
      "cell_type": "markdown",
      "source": [
        "Lisp, Haskell, dan Scala"
      ],
      "metadata": {
        "id": "hJgSbvEde3MU"
      }
    },
    {
      "cell_type": "markdown",
      "source": [
        "## 6.Membuat program Simple Password encryption, dengan ketentuan\n",
        "####1. Input password bertipe string dengan batasan panjang password 100 karakter\n",
        "####2. Setiap karakter dari string tersebut diubah menjadi ASCII value\n",
        "####3. Kemudian setiap ASCII value tersebut dikembangkan menjadi 3 value dengan dilakukan operasi berikut:\n",
        "1. Value pertama dibagi dengan integer 26 kemudian\n",
        "dibulatkan dan dijumlahkan dengan 80 kemudian diubah\n",
        "kembali menjadi karakter\n",
        "2. Value kedua dihitung sisa bagi dengan 26 kemudian\n",
        "dijumlahkan dengan 80 kemudian diubah kembali menjadi\n",
        "karakter\n",
        "3. Value ketiga adalah karakter ‘+’ jika value pertama lebih\n",
        "besar dari value kedua, atau value ketiga adalah karakter ‘-’\n",
        "jika value pertama tidak lebih besar dari value kedua\n",
        "4. Deretkan value pertama, kedua dan ketiga untuk setiap karakter\n",
        "dalam password tersebut sehingga didapatkan password dalam\n",
        "bentuk baru\n"
      ],
      "metadata": {
        "id": "YancsfCne88n"
      }
    },
    {
      "cell_type": "markdown",
      "source": [
        "**Jawab soal nomor 6**\n",
        "1. Buat sebuah program yang secara otomatis mengubah password yang di input menjadi terenkripsi sesuai aturan tersebut!"
      ],
      "metadata": {
        "id": "PGpH7uutinQl"
      }
    },
    {
      "cell_type": "code",
      "source": [
        "# menggunakan fungsi enkripsi pada password, \n",
        "# untuk mengambil dan mengubah password asli yang dapat dibaca menjadi format acak yang sulit dipahami\n",
        "# untuk mengamankan informasi password itu sendiri\n",
        "def enkripsi(password_aku):\n",
        "    # jika panjang karakter password lebih dari 100\n",
        "  if len(password_aku) > 100 or len(password_aku) == 0:\n",
        "    print(\"Masukkan 1-100 Karakter Password\")\n",
        "  else:\n",
        "    # merubah setiap karakter menjadi kode ascii (kode yang digunakan untuk mewakilkan karakter, baik angka maupun huruf dalam komputer) \n",
        "    # dan ditampung dalam sebuah list\n",
        "    ascii = [str(ord(s)) for  s in password_aku]\n",
        "    # membuat 3 value dari setiap kode ascii, lalu digabungkan\n",
        "    enkripsi_pw = ''.join(chr((int(y)//26)+80)+chr((int(y)%26)+80)+('+' if (int(y)//26)+80 > (int(y)%26)+80 else '-') for  y in ascii)\n",
        "    # menampilkan hasil enkripsi password\n",
        "    print(\"Enkripsi Password: \", enkripsi_pw)\n",
        "\n",
        "# menggunakan fungsi deksripsi,\n",
        "# untuk mengambil dan mengubah format acak yang sulit dipahami menjadi password yang dapat dibaca\n",
        "def dekripsi(password_aku):\n",
        "  # split 3 value\n",
        "  split_password = [(password_aku[i:i+3]) for i in range(0, len(password_aku), 3)]\n",
        "  # membuat 3 value kembali ke kode ascii, lalu ke karakter asli password dan digabungkan\n",
        "  dekripsi_pw = ''.join(chr(((ord(list(f)[0])-80)*26)+(ord(list(f)[1])-80)) for f in split_password)\n",
        "  # menampilkan hasil dekripsi password\n",
        "  print(\"Password Asli: \", dekripsi_pw)"
      ],
      "metadata": {
        "id": "qpyuJdzGf7oA"
      },
      "execution_count": 6,
      "outputs": []
    },
    {
      "cell_type": "markdown",
      "source": [
        "2. Apa output yang dihasilkan dari program tersebut jika input password adalah 'anakanakcerdas2020' ?"
      ],
      "metadata": {
        "id": "LRrn549ZkUbm"
      }
    },
    {
      "cell_type": "code",
      "source": [
        "# enkripsi\n",
        "password_aku = input(\"Masukkan Password Asli Anda: \")\n",
        "enkripsi(password_aku)"
      ],
      "metadata": {
        "colab": {
          "base_uri": "https://localhost:8080/"
        },
        "id": "EuG-bajSkkCn",
        "outputId": "d8627ffd-c888-4445-efeb-e6cb1ff45b08"
      },
      "execution_count": 10,
      "outputs": [
        {
          "output_type": "stream",
          "name": "stdout",
          "text": [
            "Masukkan Password Asli Anda: anakanakcerdas2020\n",
            "Enkripsi Password:  Sc-TV-Sc-TS+Sc-TV-Sc-TS+Se-Sg-TZ-Sf-Sc-T[-Qh-Qf-Qh-Qf-\n"
          ]
        }
      ]
    },
    {
      "cell_type": "markdown",
      "source": [
        "3. User tersebut lupa password asli yang dia inputkan ke dalam program tersebut, password setelah dienkripsi adalah ‘Sc-TV-Sc-TS+Sc-TV-Sc-TS+Se-Sg-TZ-Sf-Sc-T[-Qh-Qf-Qh-Qf-’. Bantulah user tersebut mendapatkan password asli nya"
      ],
      "metadata": {
        "id": "GG4ha-a4lQXx"
      }
    },
    {
      "cell_type": "code",
      "source": [
        "# dekripsi\n",
        "enkripsi_password = input(\"Masukkan Enkripsi Password Anda: \")\n",
        "dekripsi(enkripsi_password)"
      ],
      "metadata": {
        "colab": {
          "base_uri": "https://localhost:8080/"
        },
        "id": "iXqamer4lVxT",
        "outputId": "9ed9fa47-50bc-4f5b-dd7c-c51e3d92595b"
      },
      "execution_count": 14,
      "outputs": [
        {
          "output_type": "stream",
          "name": "stdout",
          "text": [
            "Masukkan Enkripsi Password Anda: Sc-TV-Sc-TS+Sc-TV-Sc-TS+Se-Sg-TZ-Sf-Sc-T[-Qh-Qf-Qh-Qf-\n",
            "Password Asli:  anakanakcerdas2020\n"
          ]
        }
      ]
    }
  ]
}